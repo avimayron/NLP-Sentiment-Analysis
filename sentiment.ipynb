{
 "cells": [
  {
   "cell_type": "code",
   "execution_count": 2,
   "metadata": {},
   "outputs": [
    {
     "name": "stdout",
     "output_type": "stream",
     "text": [
      "           Index  Sentiment                                               Text\n",
      "0              0          0  @switchfoot http://twitpic.com/2y1zl - Awww, t...\n",
      "1              1          0  is upset that he can't update his Facebook by ...\n",
      "2              2          0  @Kenichan I dived many times for the ball. Man...\n",
      "3              3          0    my whole body feels itchy and like its on fire \n",
      "4              4          0  @nationwideclass no, it's not behaving at all....\n",
      "...          ...        ...                                                ...\n",
      "1048570  1048570          1  Back home, thought I'd done for the week, but ...\n",
      "1048571  1048571          1           My GrandMa is making Dinenr with my Mum \n",
      "1048572  1048572          1  Mid-morning snack time... A bowl of cheese noo...\n",
      "1048573  1048573          1  @ShaDeLa same here  say it like from the Termi...\n",
      "1048574  1048574          1             @DestinyHope92 im great thaanks  wbuu?\n",
      "\n",
      "[1048575 rows x 3 columns]\n"
     ]
    }
   ],
   "source": [
    "import pandas as pd\n",
    "import matplotlib.pyplot as plt\n",
    "import numpy as np\n",
    "import re\n",
    "from sklearn.linear_model import LogisticRegression\n",
    "from sklearn.ensemble import RandomForestClassifier\n",
    "from sklearn.metrics import ConfusionMatrixDisplay, confusion_matrix, roc_curve, auc, classification_report\n",
    "from sklearn.feature_extraction.text import CountVectorizer, TfidfVectorizer\n",
    "\n",
    "train = pd.read_csv('train.csv')\n",
    "test = pd.read_csv('test.csv')\n",
    "\n",
    "print(train)"
   ]
  },
  {
   "cell_type": "code",
   "execution_count": 3,
   "metadata": {},
   "outputs": [
    {
     "name": "stdout",
     "output_type": "stream",
     "text": [
      "Number of zeros: 800000\n",
      "Number of ones: 248575\n",
      "Total count: 1048575\n",
      "Percentage of zeros: 76.29%\n",
      "Percentage of ones: 23.71%\n"
     ]
    },
    {
     "data": {
      "image/png": "[encoded data removed]",
      "text/plain": [
       "<Figure size 640x480 with 1 Axes>"
      ]
     },
     "metadata": {},
     "output_type": "display_data"
    }
   ],
   "source": [
    "# Exploratory Data Analysis\n",
    "my_column = train['Sentiment']\n",
    "\n",
    "    # Calculate some fundamental metrics\n",
    "num_zeros = my_column.value_counts()[0]\n",
    "num_ones = my_column.value_counts()[1]\n",
    "total_count = len(my_column)\n",
    "percent_zeros = num_zeros / total_count * 100\n",
    "percent_ones = num_ones / total_count * 100\n",
    "\n",
    "    # Print the metrics\n",
    "print(f\"Number of zeros: {num_zeros}\")\n",
    "print(f\"Number of ones: {num_ones}\")\n",
    "print(f\"Total count: {total_count}\")\n",
    "print(f\"Percentage of zeros: {percent_zeros:.2f}%\")\n",
    "print(f\"Percentage of ones: {percent_ones:.2f}%\")\n",
    "\n",
    "    # Generate a bar chart\n",
    "fig, ax = plt.subplots()\n",
    "ax.bar(['0', '1'], [num_zeros, num_ones])\n",
    "ax.set_xlabel('0 - Negative       1 - Positive')\n",
    "ax.set_ylabel('Count')\n",
    "ax.set_title('Sentiment')\n",
    "plt.show()"
   ]
  },
  {
   "cell_type": "code",
   "execution_count": 13,
   "metadata": {},
   "outputs": [
    {
     "name": "stdout",
     "output_type": "stream",
     "text": [
      "           Index  Sentiment                                               Text\n",
      "64296      64296          0  [traveling, while, suffering, from, the, flu, ...\n",
      "858372    858372          1  [miles, taking, in, the, mega, loop, for, next...\n",
      "1012376  1012376          1  [finlandia, club, is, the, best, club, in, zak...\n",
      "42501      42501          0  [damn, so, thinkin, bout, me, makes, u, bored,...\n",
      "587647    587647          0  [sure, all, you, will, have, to, do, is, plug,...\n",
      "...          ...        ...                                                ...\n",
      "269188    269188          0  [omg, just, watdlched, neighbours, am, epicly,...\n",
      "988937    988937          1  [cool, are, you, able, to, blog, about, it, to...\n",
      "569543    569543          0  [same, here, my, grad, also, completes, last, ...\n",
      "161659    161659          0  [i, had, a, horrible, dream, it, had, to, do, ...\n",
      "479219    479219          0  [i, got, too, hopeful, things, arent, looking,...\n",
      "\n",
      "[100000 rows x 3 columns]\n"
     ]
    }
   ],
   "source": [
    "# Text Preprocessing\n",
    "      # Upper to lower\n",
    "to_lower = lambda x: x.lower() if isinstance(x, str) else x\n",
    "train['Text'] = train['Text'].apply(to_lower)\n",
    "test['Text'] = test['Text'].apply(to_lower)\n",
    "\n",
    "      # Remove words with numbers or \"@\"\n",
    "def remove_special_words(text):\n",
    "    words = text.split()\n",
    "    new_words = [word for word in words if not any(char.isdigit() or char == '@' for char in word)]\n",
    "    return ' '.join(new_words)\n",
    "train['Text'] = train['Text'].apply(remove_special_words)\n",
    "test['Text'] = test['Text'].apply(remove_special_words)\n",
    "\n",
    "      # Remove Special Characters\n",
    "remove_special_chars = lambda x: re.sub(r'[^\\w\\s]', '', x) if isinstance(x, str) else x\n",
    "train['Text'] = train['Text'].apply(remove_special_chars)\n",
    "test['Text'] = test['Text'].apply(remove_special_chars)\n",
    "\n",
    "      # Word Tokenization & Remove Stop Words\n",
    "topTrain = train.copy()\n",
    "topTest = test.copy()\n",
    "tokenize = lambda x: x.split() if isinstance(x, str) else x\n",
    "topTrain['Text'] = topTrain['Text'].apply(tokenize)\n",
    "topTrain = topTrain.sample(n=100000)\n",
    "topTest['Text'] = topTest['Text'].apply(tokenize)\n",
    "\n",
    "print(topTrain)"
   ]
  },
  {
   "cell_type": "code",
   "execution_count": 14,
   "metadata": {},
   "outputs": [],
   "source": [
    "      # Bag of Words Generation -- Word Tokenization & Remove Stop Words\n",
    "bagOfWords_ = CountVectorizer(token_pattern=r'\\b\\w+\\b', stop_words='english')\n",
    "X_trainBOW = bagOfWords_.fit_transform(train['Text'])\n",
    "X_testBOW = bagOfWords_.transform(test['Text'])\n",
    "\n",
    "      # TF*IDF -- Word Tokenization & Remove Stop Words\n",
    "tfidf = TfidfVectorizer(token_pattern=r'\\b\\w+\\b', stop_words='english')\n",
    "X_trainTF = tfidf.fit_transform(train['Text'])\n",
    "X_testTF = tfidf.transform(test['Text'])"
   ]
  },
  {
   "cell_type": "code",
   "execution_count": 15,
   "metadata": {},
   "outputs": [
    {
     "name": "stdout",
     "output_type": "stream",
     "text": [
      "{'i': 53027, 'to': 37621, 'the': 32180, 'a': 23266, 'my': 21707, 'and': 18866, 'is': 15634, 'it': 14632, 'you': 14149, 'in': 14054, 'for': 13041, 'im': 12085, 'of': 11682, 'me': 10729, 'on': 10489, 'so': 10217, 'have': 9824, 'but': 9162, 'that': 8999, 'not': 8004, 'just': 7736, 'at': 7399, 'be': 7167, 'was': 7094, 'its': 7001, 'with': 6695, 'this': 6225, 'now': 6130, 'up': 5829, 'no': 5636, 'get': 5501, 'out': 5296, 'all': 5189, 'go': 5152, 'day': 5118, 'like': 4950, 'work': 4901, 'dont': 4878, 'cant': 4675, 'good': 4530, 'are': 4435, 'do': 4360, 'today': 4293, 'too': 4230, 'going': 4051, 'got': 3849, 'back': 3812, 'really': 3507, 'am': 3438, 'from': 3428, 'your': 3413, 'time': 3384, 'want': 3313, 'one': 3275, 'had': 3274, 'still': 3268, 'about': 3266, 'what': 3221, 'know': 3212, 'we': 3051, 'miss': 3042, 'u': 3003, 'will': 2991, 'love': 2970, 'lol': 2934, 'can': 2779, 'home': 2727, 'well': 2677, 'think': 2650, 'see': 2639, 'sad': 2619, 'oh': 2588, 'when': 2576, 'if': 2569, 'last': 2550, 'there': 2545, 'some': 2538, 'how': 2508, 'need': 2477, 'night': 2467, 'as': 2452, 'they': 2447, 'more': 2441, 'much': 2412, 'amp': 2372, 'off': 2343, 'wish': 2340, 'feel': 2323, 'new': 2295, 'has': 2283, 'been': 2264, 'here': 2246, 'an': 2230, 'tomorrow': 2211, 'why': 2135, 'bad': 2115, 'didnt': 2099, 'her': 2099, 'sorry': 2093, 'again': 2060, 'sleep': 2033, 'then': 2032, 'only': 1974, 'he': 1939, 'hope': 1937, 'or': 1881, 'morning': 1880, 'ill': 1836, 'twitter': 1791, 'right': 1775, 'thats': 1769, 'hate': 1740, 'would': 1689, 'thanks': 1647, 'though': 1612, 'gonna': 1606, 'very': 1598, 'great': 1598, 'getting': 1595, 'tonight': 1584, 'by': 1563, 'ive': 1560, 'did': 1560, 'make': 1558, 'were': 1552, 'come': 1538, 'them': 1534, 'could': 1533, 'she': 1527, 'over': 1512, 'fun': 1492, 'haha': 1492, 'school': 1470, 'week': 1469, 'bed': 1454, 'way': 1432, 'sick': 1422, 'happy': 1409, 'even': 1359, 'better': 1336, 'him': 1310, 'people': 1297, 'down': 1289, 'wont': 1277, 'should': 1268, 'wanna': 1263, 'days': 1259, 'never': 1232, 'after': 1227, 'yeah': 1209, 'next': 1203, 'watching': 1186, 'tired': 1186, 'feeling': 1180, 'working': 1177, 'weekend': 1155, 'being': 1138, 'wait': 1131, 'nice': 1113, 'already': 1093, 'find': 1086, 'soon': 1072, 'long': 1062, 'take': 1060, 'please': 1048, 'having': 1035, 'youre': 1028, 'doesnt': 1023, 'another': 1021, 'any': 1020, 'little': 1017, 'sucks': 989, 'who': 972, 'show': 971, 'thing': 969, 'phone': 966, 'his': 966, 'doing': 966, 'because': 966, 'first': 964, 'hours': 960, 'yet': 934, 'where': 934, 'watch': 931, 'friends': 930, 'lost': 924, 'something': 912, 'before': 907, 'say': 907, 'hey': 907, 'than': 905, 'yes': 903, 'life': 902, 'left': 897, 'trying': 897, 'our': 896, 'away': 895, 'damn': 892, 'ok': 881, 'man': 874, 'always': 871, 'us': 861, 'went': 848, 'done': 846, 'bored': 839, 'omg': 839, 'looking': 836, 'x': 830, 'ready': 830, 'rain': 826, 'best': 825, 'into': 815, 'missed': 815, 'early': 812, 'havent': 810, 'made': 805, 'ugh': 805, 'everyone': 802, 'house': 793, 'guess': 791, 'sure': 784, 'guys': 784, 'awesome': 779, 'ever': 766, 'thought': 764, 'let': 754, 'someone': 745, 'year': 743, 'same': 743, 'isnt': 741, 'old': 738, 'help': 738, 'nothing': 728, 'summer': 724, 'things': 715, 'ur': 705, 'cool': 703, 'hurts': 701, 'while': 700, 'missing': 700, 'maybe': 698, 'big': 692, 'does': 687, 'look': 686, 'gone': 684, 'poor': 681, 'hot': 679, 'weather': 678, 'hard': 678, 'thank': 678, 'two': 675, 'friend': 675, 'makes': 674, 'pretty': 672, 'live': 667, 'other': 663, 'late': 657, 'n': 657, 'head': 657, 'until': 655, 'looks': 648, 'since': 645, 'tweet': 645, 'hear': 641, 'tell': 638, 'yesterday': 638, 'coming': 638, 'play': 638, 'actually': 636, 'bit': 636, 'baby': 629, 'try': 626, 'start': 626, 'cold': 625, 'car': 623, 'keep': 623, 'those': 619, 'finally': 617, 'said': 609, 'waiting': 607, 'movie': 602, 'also': 599, 'hes': 595, 'gotta': 595, 'myself': 592, 'might': 592, 'sun': 588, 'saw': 585, 'wow': 584, 'stuff': 584, 'such': 582, 'woke': 581, 'lot': 577, 'job': 573, 'leave': 572, 'game': 569, 'yay': 569, 'few': 568, 'call': 568, 'god': 568, 'anymore': 567, 'tho': 565, 'aww': 565, 'many': 564, 'stop': 564, 'girl': 559, 'party': 558, 'iphone': 557, 'stupid': 556, 'id': 548, 'wanted': 546, 'monday': 545, 'may': 540, 'believe': 540, 'around': 538, 'shit': 536, 'hour': 536, 'theres': 535, 'their': 535, 'found': 533, 'talk': 532, 'without': 531, 'mom': 530, 'later': 529, 'anything': 528, 'read': 525, 'world': 521, 'least': 521, 'put': 519, 'almost': 517, 'friday': 516, 'making': 516, 'till': 514, 'whats': 514, 'must': 509, 'amazing': 508, 'mean': 507, 'sunday': 505, 'hair': 504, 'give': 502, 'end': 501, 'ya': 500, 'anyone': 490, 'eat': 490, 'couldnt': 489, 'shes': 487, 'wasnt': 487, 'times': 487, 'cause': 485, 'wrong': 483, 'far': 480, 'wants': 479, 'follow': 478, 'weeks': 477, 'headache': 477, 'use': 477, 'these': 474, 'music': 471, 'birthday': 465, 'luck': 465, 'which': 464, 'through': 457, 'totally': 456, 'family': 455, 'glad': 455, 'outside': 451, 'lunch': 449, 'food': 447, 'everything': 444, 'room': 444, 'most': 443, 'sounds': 443, 'okay': 435, 'song': 433, 'enough': 433, 'sooo': 432, 'class': 431, 'thinking': 430, 'real': 429, 'finished': 429, 'mine': 428, 'forgot': 426, 'stuck': 425, 'forward': 425, 'stay': 425, 'raining': 421, 'hell': 418, 'buy': 416, 'leaving': 412, 'able': 406, 'probably': 406, 'excited': 401, 'hi': 400, 'whole': 399, 'alone': 399, 'money': 398, 'exam': 398, 'boo': 395, 'hurt': 395, 'playing': 394, 'computer': 392, 'place': 389, 'r': 388, 'dinner': 386, 'kinda': 383, 'seen': 381, 'video': 381, 'feels': 380, 'cuz': 380, 'says': 380, 'every': 379, 'crap': 379, 'tweets': 377, 'boring': 377, 'tv': 376, 'check': 376, 'saturday': 376, 'needs': 375, 'took': 374, 'years': 374, 'funny': 374, 'mothers': 373, 'cry': 372, 'used': 371, 'ago': 371, 'came': 370, 'fuck': 369, 'seems': 368, 'busy': 368, 'theyre': 367, 'listening': 366, 'half': 366, 'full': 365, 'tried': 365, 'beautiful': 364, 'sitting': 364, 'win': 363, 'free': 362, 'either': 361, 'taking': 359, 'pain': 359, 'w': 359, 'internet': 357, 'dog': 356, 'awww': 354, 'coffee': 353, 'b': 353, 'kids': 350, 'soo': 350, 'dad': 349, 'news': 349, 'enjoy': 348, 'crazy': 346, 'sore': 344, 'broke': 343, 'eating': 342, 'heart': 341, 'xx': 340, 'pic': 339, 'face': 339, 'super': 335, 'idea': 335, 'd': 333, 'run': 332, 'awake': 332, 'following': 332, 'fail': 331, 'office': 331, 'rest': 329, 'cute': 328, 'else': 328, 'o': 325, 'study': 325, 'asleep': 322, 'died': 321, 'post': 320, 'heard': 320, 'followers': 319, 'hopefully': 318, 'hit': 314, 'lovely': 314, 'starting': 314, 'remember': 313, 'sweet': 311, 'hungry': 310, 'ha': 310, 'told': 310, 'fucking': 309, 'seriously': 308, 'guy': 308, 'change': 308, 'shopping': 306, 'welcome': 306, 'send': 306, 'started': 305, 'mad': 301, 'both': 301, 'hahaha': 300, 'online': 300, 'aw': 298, 'called': 297, 'lots': 296, 'homework': 295, 'wake': 294, 'happened': 293, 'trip': 293, 'jealous': 293, 'dead': 292, 'meet': 292, 'sigh': 292, 'true': 291, 'watched': 290, 'drive': 289, 'update': 289, 'beach': 288, 'book': 288, 'part': 288, 'break': 288, 'til': 287, 'reading': 286, 'instead': 285, 'throat': 284, 'once': 282, 'girls': 282, 'talking': 279, 'soooo': 279, 'laptop': 278, 'month': 278, 'unfortunately': 277, 'ah': 277, 'seeing': 275, 'own': 275, 'gets': 274, 'goes': 274, 'season': 273, 'name': 273, 'running': 271, 'exams': 270, 'broken': 269, 'kind': 269, 'bye': 268, 'ipod': 267, 'lucky': 267, 'minutes': 265, 'picture': 264, 'boy': 263, 'blog': 262, 'sunny': 261, 'months': 261, 'sleeping': 261, 'move': 260, 'happen': 259, 'quite': 259, 'suck': 259, 'concert': 259, 's': 257, 'worst': 257, 'studying': 257, 'goodnight': 256, 'care': 256, 'reply': 256, 'facebook': 255, 'ass': 253, 'btw': 253, 'ones': 252, 'cut': 251, 'person': 251, 'site': 251, 'dream': 251, 'bought': 251, 'link': 250, 'supposed': 250, 'loved': 250, 'open': 249, 'horrible': 249, 'mind': 248, 'wishing': 245, 'walk': 244, 'bout': 243, 'wouldnt': 243, 'sleepy': 243, 'finish': 242, 'lets': 242, 'sometimes': 241, 'dude': 241, 'means': 240, 'seem': 239, 'sister': 239, 'breakfast': 238, 'email': 238, 'upset': 238, 'la': 237, 'wtf': 237, 'course': 237, 'reason': 237, 'hello': 235, 'write': 235, 'heading': 235, 'close': 235, 'mood': 234, 'goin': 234, 'red': 233, 'hoping': 233, 'arent': 233, 'scared': 232, 'turn': 232, 'due': 231, 'definitely': 231, 'worse': 231, 'couple': 231, 'cat': 229, 'bring': 228, 'pics': 228, 'sound': 227, 'fan': 226, 'sadly': 226, 'moving': 226, 'high': 225, 'air': 225, 'fine': 225, 'test': 225, 'final': 224, 'comes': 224, 'ppl': 223, 'fall': 223, 'problem': 223, 'three': 221, 'text': 221, 'anyway': 220, 'set': 219, 'ate': 219, 'tickets': 218, 'lmao': 218, 'ask': 217, 'nap': 216, 'fast': 215, 'longer': 215, 'works': 215, 'fb': 215, 'driving': 215, 'city': 215, 'yea': 214, 'june': 214, 'bday': 214, 'clean': 214, 'dear': 213, 'brother': 212, 'side': 212, 'eyes': 211, 'cannot': 211, 'rip': 211, 'aint': 210, 'yall': 210, 'slow': 210, 'nite': 210, 'favorite': 209, 'tour': 209, 'youtube': 208, 'flu': 207, 'meeting': 207, 'apparently': 207, 'hang': 206, 'saying': 206, 'tea': 206, 'shame': 206, 'second': 205, 'weird': 205, 'gym': 205, 'town': 204, 'shower': 204, 'movies': 204, 'fell': 204, 'ouch': 204, 'together': 203, 'ride': 203, 'store': 202, 'catch': 202, 'lonely': 202, 'water': 202, 'crying': 202, 'church': 201, 'gave': 201, 'listen': 201, 'pay': 200, 'english': 200, 'short': 200, 'ahh': 200, 'xd': 199, 'understand': 198, 'visit': 198, 'drink': 197, 'earlier': 197, 'moment': 197, 'p': 196, 'london': 196, 'using': 196, 'afternoon': 196, 'body': 195, 'college': 194, 'da': 194, 'slept': 193, 'wonderful': 192, 'dance': 191, 'chocolate': 191, 'flight': 190, 'lil': 190, 'rather': 188, 'boys': 188, 'sent': 188, 'hates': 187, 'top': 187, 'past': 187, 'won': 187, 'less': 186, 'holiday': 186, 'under': 185, 'agree': 185, 'writing': 185, 'knew': 185, 'page': 184, 'huge': 184, 'mac': 184, 'gt': 184, 'youll': 183, 'wondering': 183, 'fair': 182, 'parents': 182, 'hehe': 181, 'stomach': 180, 'enjoying': 180, 'sat': 180, 'train': 179, 'plans': 179, 'ice': 179, 'songs': 178, 'spent': 177, 'via': 177, 'hand': 177, 'cleaning': 176, 'eye': 176, 'terrible': 176, 'except': 176, 'account': 176, 'chance': 175, 'black': 175, 'answer': 175, 'wonder': 174, 'star': 174, 'rainy': 173, 'worried': 173, 'uk': 173, 'during': 172, 'tummy': 171, 'paper': 171, 'nope': 171, 'number': 171, 'camera': 170, 'hugs': 170, 'bus': 170, 'story': 169, 'thursday': 168, 'updates': 168, 'worth': 167, 'keeps': 167, 'y': 167, 'green': 167, 'killing': 167, 'idk': 167, 'finals': 167, 'loving': 165, 'evening': 165, 'mum': 165, 'list': 164, 'forget': 164, 'lame': 163, 'sold': 163, 'c': 162, 'plus': 162, 'hospital': 162, 'shows': 162, 'cos': 161, 'airport': 161, 'moms': 161, 'bummed': 161, 'forever': 161, 'feet': 160, 'rock': 160, 'perfect': 160, 'tweeting': 160, 'plan': 160, 'hasnt': 160, 'bc': 159, 'line': 159, 'awful': 159, 'photo': 159, 'pick': 159, 'cream': 159, 'hmm': 158, 'itll': 158, 'kill': 158, 'taken': 158, 'sunshine': 158, 'tuesday': 158, 'point': 157, 'packing': 157, 'die': 157, 'xxx': 157, 'bike': 157, 'save': 156, 'shoes': 156, 'loves': 156, 'traffic': 156, 'looked': 155, 'figure': 155, 'realized': 155, 'learn': 155, 'dreams': 155, 'goodbye': 154, 'lady': 154, 'waking': 154, 'voice': 154, 'closed': 154, 'fml': 153, 'add': 153, 'white': 153, 'wishes': 153, 'felt': 153, 'interesting': 152, 'worked': 152, 'vacation': 152, 'wear': 152, 'words': 151, 'hug': 151, 'disappointed': 150, 'easy': 150, 'especially': 150, 'download': 150, 'youve': 149, 'park': 149, 'thinks': 149, 'bloody': 149, 'scary': 149, 'inside': 149, 'em': 148, 'different': 148, 'david': 148, 'message': 148, 'special': 148, 'date': 147, 'jonas': 147, 'pissed': 147, 'lazy': 147, 'bet': 147, 'episode': 146, 'nights': 146, 'boyfriend': 146, 'join': 145, 'passed': 145, 'pool': 145, 'word': 144, 'annoying': 144, 'kid': 144, 'july': 144, 'dying': 143, 'games': 142, 'each': 141, 'officially': 141, 'giving': 141, 'power': 141, 'fix': 141, 'band': 141, 'congrats': 140, 'myspace': 140, 'bro': 140, 'spend': 140, 'turned': 140, 'team': 140, 'jus': 139, 'ps': 139, 'staying': 139, 'service': 139, 'apple': 138, 'small': 138, 'blah': 138, 'shop': 138, 'gettin': 137, 'cake': 137, 'starts': 137, 'exactly': 137, 'drinking': 137, 'warm': 136, 'decided': 136, 'wedding': 136, 'revision': 136, 'plane': 136, 'caught': 136, 'fathers': 136, 'pictures': 136, 'maths': 135, 'yep': 135, 'beer': 135, 'death': 134, 'completely': 134, 'behind': 134, 'card': 134, 'meant': 134, 'cancelled': 134, 'played': 133, 'heat': 133, 'bummer': 133, 'met': 132, 'beat': 132, 'french': 131, 'argh': 131, 'shouldnt': 131, 'pizza': 131, 'lately': 131, 'books': 131, 'front': 130, 'changed': 130, 'babe': 130, 'photos': 130, 'sims': 130, 'road': 130, 'tweetdeck': 129, 'alot': 129, 'math': 129, 'wit': 129, 'living': 129, 'extra': 129, 'google': 129, 'fans': 128, 'bb': 128, 'album': 128, 'tom': 128, 'website': 128, 'pass': 128, 'ended': 127, 'ran': 127, 'depressed': 127, 'chat': 127, 'dm': 127, 'badly': 127, 'ahhh': 127, 'ticket': 126, 'ache': 126, 'gosh': 126, 'fever': 126, 'safe': 126, 'order': 126, 'project': 125, 'stopped': 125, 'web': 125, 'miley': 125, 'dunno': 125, 'sign': 124, 'case': 124, 'box': 124, 'teeth': 124, 'bitch': 124, 'asked': 124, 'absolutely': 123, 'darn': 123, 'although': 123, 'history': 123, 'gutted': 123, 'support': 123, 'serious': 122, 'version': 122, 'ohh': 122, 'minute': 122, 'needed': 122, 'dang': 121, 'chicken': 121, 'fat': 121, 'killed': 121, 'nose': 120, 'confused': 120, 'shirt': 120, 'fact': 120, 'major': 119, 'lose': 119, 'burnt': 119, 'mr': 119, 'happens': 119, 'door': 119, 'problems': 119, 'walking': 118, 'sis': 118, 'sit': 118, 'dress': 118, 'exhausted': 118, 'sooooo': 118, 'light': 118, 'cup': 118, 'depressing': 118, 'none': 118, 'freaking': 118, 'club': 117, 'coz': 117}\n"
     ]
    }
   ],
   "source": [
    "# Find Unique Words and Top 10,000 Most Frequent Words\n",
    "x = dict()\n",
    "for words in topTrain['Text']: # Get Unique Words\n",
    "    for word in words:\n",
    "        if word not in x.keys():\n",
    "            x[word] = 1\n",
    "        else:\n",
    "            x[word] += 1\n",
    "         \n",
    "sorted_x = sorted(x.items(), key=lambda x:x[1], reverse=True)\n",
    "conv = dict(sorted_x)\n",
    "freq_words = dict(list(conv.items())[0: 1000])        \n",
    "unique_words = list(freq_words.keys())\n",
    "\n",
    "print(freq_words)"
   ]
  },
  {
   "cell_type": "code",
   "execution_count": 16,
   "metadata": {},
   "outputs": [
    {
     "name": "stdout",
     "output_type": "stream",
     "text": [
      "         i  to  the  a  my  and  is  it  you  in  ...  dress  exhausted  \\\n",
      "0        0   0    0  0   0    0   0   0    0   0  ...      0          0   \n",
      "1        0   0    0  0   0    0   0   0    0   0  ...      0          0   \n",
      "2        0   0    0  0   0    0   0   0    0   0  ...      0          0   \n",
      "3        0   0    0  0   0    0   0   0    0   0  ...      0          0   \n",
      "4        0   0    0  0   0    0   0   0    0   0  ...      0          0   \n",
      "...     ..  ..  ... ..  ..  ...  ..  ..  ...  ..  ...    ...        ...   \n",
      "1048570  0   0    0  0   0    0   0   0    0   0  ...      0          0   \n",
      "1048571  0   0    0  0   0    0   0   0    0   0  ...      0          0   \n",
      "1048572  0   0    0  0   0    0   0   0    0   0  ...      0          0   \n",
      "1048573  0   0    0  0   0    0   0   0    0   0  ...      0          0   \n",
      "1048574  0   0    0  0   0    0   0   0    0   0  ...      0          0   \n",
      "\n",
      "         sooooo  light  cup  depressing  none  freaking  club  coz  \n",
      "0             0      0    0           0     0         0     0    0  \n",
      "1             0      0    0           0     0         0     0    0  \n",
      "2             0      0    0           0     0         0     1    0  \n",
      "3             0      0    0           0     0         0     0    0  \n",
      "4             0      0    0           0     0         0     0    0  \n",
      "...         ...    ...  ...         ...   ...       ...   ...  ...  \n",
      "1048570       0      0    0           0     0         0     0    0  \n",
      "1048571       0      0    0           0     0         0     0    0  \n",
      "1048572       0      0    0           0     0         0     0    0  \n",
      "1048573       0      0    0           0     0         0     0    0  \n",
      "1048574       0      0    0           0     0         0     0    0  \n",
      "\n",
      "[1048575 rows x 1000 columns]\n",
      "     i  to  the  a  my  and  is  it  you  in  ...  dress  exhausted  sooooo  \\\n",
      "0    1   0    0  0   0    0   0   0    0   0  ...      0          0       0   \n",
      "1    0   0    0  0   0    0   0   0    0   0  ...      0          0       0   \n",
      "2    0   0    0  0   0    0   0   0    0   0  ...      0          0       0   \n",
      "3    0   0    0  0   0    0   0   0    0   0  ...      0          0       0   \n",
      "4    0   0    0  0   0    0   0   0    0   0  ...      0          0       0   \n",
      "..  ..  ..  ... ..  ..  ...  ..  ..  ...  ..  ...    ...        ...     ...   \n",
      "354  0   0    0  0   0    0   0   0    0   0  ...      0          0       0   \n",
      "355  0   0    0  0   0    0   0   0    0   0  ...      0          0       0   \n",
      "356  0   0    0  0   0    0   0   0    0   0  ...      0          0       0   \n",
      "357  0   0    0  0   0    0   0   0    0   1  ...      0          0       0   \n",
      "358  0   0    0  0   0    0   0   0    0   0  ...      0          0       0   \n",
      "\n",
      "     light  cup  depressing  none  freaking  club  coz  \n",
      "0        0    0           0     0         0     0    0  \n",
      "1        0    0           0     0         0     0    0  \n",
      "2        0    0           0     0         0     0    0  \n",
      "3        0    0           0     0         0     0    0  \n",
      "4        0    0           0     0         0     0    0  \n",
      "..     ...  ...         ...   ...       ...   ...  ...  \n",
      "354      0    0           0     0         0     0    0  \n",
      "355      0    0           0     0         0     0    0  \n",
      "356      0    0           0     0         0     0    0  \n",
      "357      0    0           0     0         0     0    0  \n",
      "358      0    0           0     0         0     0    0  \n",
      "\n",
      "[359 rows x 1000 columns]\n"
     ]
    }
   ],
   "source": [
    "# Feature Extraction\n",
    "       # Bag of Words -- Training\n",
    "bag_of_words = pd.DataFrame(0, index=np.arange(len(train)), columns=freq_words)\n",
    "\n",
    "i = 0\n",
    "for sent in topTrain['Text']:\n",
    "    for word in sent:\n",
    "        if word in freq_words:\n",
    "            bag_of_words.at[i, word] += 1\n",
    "            break\n",
    "    i += 1\n",
    "\n",
    "       # Bag of Words -- Testing\n",
    "bag_of_words_test = pd.DataFrame(0, index=np.arange(len(test)), columns=freq_words)\n",
    "\n",
    "i = 0\n",
    "for sent in topTest['Text']:\n",
    "    for word in sent:\n",
    "        if word in freq_words:\n",
    "            bag_of_words_test.at[i, word] += 1\n",
    "            break\n",
    "    i += 1\n",
    "\n",
    "print(bag_of_words)\n",
    "print(bag_of_words_test)"
   ]
  },
  {
   "cell_type": "code",
   "execution_count": 17,
   "metadata": {},
   "outputs": [],
   "source": [
    "# Sentiment Classification Models\n",
    "\n",
    "# X_train = bag_of_words.to_numpy()\n",
    "# X_train = X_train.sample(n=100000).to_numpy()\n",
    "# y_train = y_train.sample(n=100000).to_numpy()\n",
    "# X_test = bag_of_words_test.to_numpy()\n",
    "\n",
    "X_train_top = bag_of_words\n",
    "X_test_top = bag_of_words_test\n",
    "\n",
    "y_train = train['Sentiment'].to_numpy()\n",
    "y_test = test['Sentiment'].to_numpy()"
   ]
  },
  {
   "cell_type": "code",
   "execution_count": null,
   "metadata": {},
   "outputs": [],
   "source": [
    "        # Logistic Regression -- BOW\n",
    "lc = LogisticRegression(max_iter = 1100000)\n",
    "lc.fit(X_trainBOW, y_train)\n",
    "y_lc_predicted = lc.predict(X_testBOW)\n",
    "y_lc_pred_proba = lc.predict_proba(X_testBOW)\n",
    "print(classification_report(y_test, y_lc_predicted))"
   ]
  },
  {
   "cell_type": "code",
   "execution_count": null,
   "metadata": {},
   "outputs": [],
   "source": [
    "        # Logistic Regression -- TFIDF\n",
    "lc = LogisticRegression(max_iter = 1100000)\n",
    "lc.fit(X_trainTF, y_train)\n",
    "y_lc_predicted = lc.predict(X_testTF)\n",
    "y_lc_pred_proba = lc.predict_proba(X_testTF)\n",
    "print(classification_report(y_test, y_lc_predicted))"
   ]
  },
  {
   "cell_type": "code",
   "execution_count": 18,
   "metadata": {},
   "outputs": [],
   "source": [
    "        # Random Forest -- BOW\n",
    "rfc = RandomForestClassifier()\n",
    "rfc.fit(X_train_top, y_train)\n",
    "y_rfc_predicted = rfc.predict(X_test_top)\n",
    "y_rfc_pred_proba = rfc.predict_proba(X_test_top)\n",
    "print(classification_report(y_test, y_rfc_predicted))"
   ]
  },
  {
   "cell_type": "code",
   "execution_count": null,
   "metadata": {},
   "outputs": [],
   "source": [
    "        # Random Forest -- IFIDF\n",
    "rfc = RandomForestClassifier()\n",
    "rfc.fit(X_trainTF, y_train)\n",
    "y_rfc_predicted = rfc.predict(X_testTF)\n",
    "y_rfc_pred_proba = rfc.predict_proba(X_testTF)\n",
    "print(classification_report(y_test, y_rfc_predicted))"
   ]
  },
  {
   "cell_type": "code",
   "execution_count": null,
   "metadata": {},
   "outputs": [],
   "source": [
    "# Confusion Matrices & ROC Curves\n",
    "\n",
    "models = ['Logistic Regression', 'Random Forest Classifier']\n",
    "predictions = [y_lc_predicted, y_rfc_predicted]\n",
    "pred_probabilities = [y_lc_pred_proba, y_rfc_pred_proba]\n",
    "\n",
    "plot = 1\n",
    "\n",
    "# Iterating though each model to generate confusion matrices\n",
    "for model, prediction, pred_proba in zip(models, predictions, pred_probabilities):\n",
    "    disp = ConfusionMatrixDisplay(confusion_matrix(y_test.ravel(), prediction))\n",
    "    disp.plot(\n",
    "        include_values=True,\n",
    "        cmap='gray',\n",
    "        colorbar=False\n",
    "    )\n",
    "    disp.ax_.set_title(f\"{model} Confusion Matrix\")\n",
    "\n",
    "plt.figure(figsize=(30, 15))\n",
    "plt.suptitle(\"ROC Curves\")\n",
    "plot_index = 1\n",
    "\n",
    "# Iterating though each model to generate ROC curves\n",
    "for model, prediction, pred_proba in zip(models, predictions, pred_probabilities):\n",
    "    fpr, tpr, thresholds = roc_curve(y_test, pred_proba[:, 1])\n",
    "    auc_score = auc(fpr, tpr)\n",
    "    plt.subplot(3, 2, plot_index)\n",
    "    plt.plot(fpr, tpr, 'r', label='ROC curve')\n",
    "    # pyplot.figure(figsize=(5, 5))\n",
    "    plt.title(f'Roc Curve - {model} - [AUC - {auc_score}]', fontsize=14)\n",
    "    plt.xlabel('FPR', fontsize=12)\n",
    "    plt.ylabel('TPR', fontsize=12)\n",
    "    plt.legend()\n",
    "    plot_index += 1\n",
    "plt.show()"
   ]
  }
 ],
 "metadata": {
  "kernelspec": {
   "display_name": "Python 3",
   "language": "python",
   "name": "python3"
  },
  "language_info": {
   "codemirror_mode": {
    "name": "ipython",
    "version": 3
   },
   "file_extension": ".py",
   "mimetype": "text/x-python",
   "name": "python",
   "nbconvert_exporter": "python",
   "pygments_lexer": "ipython3",
   "version": "3.10.9"
  }
 },
 "nbformat": 4,
 "nbformat_minor": 2
}
